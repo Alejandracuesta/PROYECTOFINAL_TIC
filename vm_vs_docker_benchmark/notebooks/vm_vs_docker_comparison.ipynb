{
 "cells": [
  {
   "cell_type": "code",
   "execution_count": null,
   "id": "c36d9d91",
   "metadata": {
    "vscode": {
     "languageId": "plaintext"
    }
   },
   "outputs": [],
   "source": [
    "import time\n",
    "import subprocess\n",
    "\n",
    "def run_vm():\n",
    "    start = time.time()\n",
    "    result = subprocess.run(['bash', 'scripts/vm_setup.sh'], capture_output=True, text=True)\n",
    "    end = time.time()\n",
    "    return end - start, result.stdout\n",
    "\n",
    "def run_docker():\n",
    "    start = time.time()\n",
    "    result = subprocess.run(['bash', 'scripts/docker_setup.sh'], capture_output=True, text=True)\n",
    "    end = time.time()\n",
    "    return end - start, result.stdout\n",
    "\n",
    "vm_time, vm_output = run_vm()\n",
    "docker_time, docker_output = run_docker()\n",
    "\n",
    "print(f\"Tiempo VM: {vm_time:.2f} segundos\")\n",
    "print(f\"Salida VM:\\n{vm_output}\")\n",
    "\n",
    "print(f\"Tiempo Docker: {docker_time:.2f} segundos\")\n",
    "print(f\"Salida Docker:\\n{docker_output}\")"
   ]
  }
 ],
 "metadata": {
  "language_info": {
   "name": "python"
  }
 },
 "nbformat": 4,
 "nbformat_minor": 5
}
