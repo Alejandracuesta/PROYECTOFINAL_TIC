{
 "cells": [
  {
   "cell_type": "markdown",
   "metadata": {},
   "source": [
    "# Instalación de Herramientas de Benchmark\n",
    "Este notebook instala las herramientas necesarias para ejecutar las pruebas de rendimiento utilizadas en la evaluación comparativa entre Máquina Virtual y Docker."
   ]
  },
  {
   "cell_type": "code",
   "execution_count": null,
   "metadata": {},
   "outputs": [],
   "source": [
    "# Actualizar el sistema\n",
    "!sudo apt update && sudo apt upgrade -y"
   ]
  },
  {
   "cell_type": "code",
   "execution_count": null,
   "metadata": {},
   "outputs": [],
   "source": [
    "# Instalar sysbench para pruebas de CPU y memoria\n",
    "!sudo apt install -y sysbench"
   ]
  },
  {
   "cell_type": "code",
   "execution_count": null,
   "metadata": {},
   "outputs": [],
   "source": [
    "# Instalar iperf3 para pruebas de red\n",
    "!sudo apt install -y iperf3"
   ]
  },
  {
   "cell_type": "code",
   "execution_count": null,
   "metadata": {},
   "outputs": [],
   "source": [
    "# Instalar Apache Benchmark (ab) para pruebas web\n",
    "!sudo apt install -y apache2-utils"
   ]
  },
  {
   "cell_type": "markdown",
   "metadata": {},
   "source": [
    "## ✅ Instalación completada\n",
    "Las herramientas necesarias han sido instaladas. Ya puedes ejecutar los scripts de pruebas de rendimiento."
   ]
  }
 ],
 "metadata": {
  "kernelspec": {
   "display_name": "Python 3",
   "language": "python",
   "name": "python3"
  },
  "language_info": {
   "name": "python",
   "version": ""
  }
 },
 "nbformat": 4,
 "nbformat_minor": 5
}
